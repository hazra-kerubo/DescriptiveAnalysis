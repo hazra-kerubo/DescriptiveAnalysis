{
  "nbformat": 4,
  "nbformat_minor": 0,
  "metadata": {
    "colab": {
      "name": "Model Deployment -Grp 2 - Streamlit.ipynb",
      "provenance": [],
      "collapsed_sections": [],
      "include_colab_link": true
    },
    "kernelspec": {
      "name": "python3",
      "display_name": "Python 3"
    },
    "language_info": {
      "name": "python"
    }
  },
  "cells": [
    {
      "cell_type": "markdown",
      "metadata": {
        "id": "view-in-github",
        "colab_type": "text"
      },
      "source": [
        "<a href=\"https://colab.research.google.com/github/hazra-kerubo/DescriptiveAnalysis/blob/main/Model_Deployment_Grp_2_Streamlit.ipynb\" target=\"_parent\"><img src=\"https://colab.research.google.com/assets/colab-badge.svg\" alt=\"Open In Colab\"/></a>"
      ]
    },
    {
      "cell_type": "code",
      "execution_count": null,
      "metadata": {
        "id": "x_keFwcEjK8J"
      },
      "outputs": [],
      "source": [
        "import pandas as pd\n",
        "import numpy as np\n",
        "import warnings\n",
        "warnings.filterwarnings(\"ignore\")\n",
        "import pandas as pd\n",
        "import numpy as np\n",
        "from sklearn.model_selection import train_test_split\n",
        "from sklearn.preprocessing import MinMaxScaler\n",
        "# Plotting Confusion matrix results\n",
        "from sklearn.metrics import classification_report, confusion_matrix\n",
        "from sklearn.metrics import plot_confusion_matrix\n",
        "from sklearn.svm import SVC\n",
        "from sklearn.metrics import precision_score, recall_score, f1_score, accuracy_score\n",
        "\n"
      ]
    },
    {
      "cell_type": "code",
      "source": [
        "# Loading detect dataset\n",
        "\n",
        "detect_df = pd.read_csv('/content/detect_dataset.csv')\n",
        "\n",
        "# Loading class_df dataset\n",
        "\n",
        "class_df = pd.read_csv('/content/classData.csv')"
      ],
      "metadata": {
        "id": "fVDSt-fLjUg9"
      },
      "execution_count": null,
      "outputs": []
    },
    {
      "cell_type": "code",
      "source": [
        "detect_df = detect_df.drop(detect_df[['Unnamed: 7', 'Unnamed: 8']],axis=1)\n",
        "detect_df.sample(5)"
      ],
      "metadata": {
        "colab": {
          "base_uri": "https://localhost:8080/",
          "height": 206
        },
        "id": "YsqmAOXb7DPX",
        "outputId": "02e4da5a-36a1-4f81-fa4a-e71825513339"
      },
      "execution_count": null,
      "outputs": [
        {
          "output_type": "execute_result",
          "data": {
            "text/plain": [
              "      Output (S)          Ia          Ib         Ic        Va        Vb  \\\n",
              "2405           0  -58.249132   -0.610827  55.231011  0.188352 -0.593169   \n",
              "4413           0  -57.122653    1.093783  58.707365  0.254819 -0.600891   \n",
              "5938           0  -61.089452   73.642305 -10.239339 -0.413997 -0.177073   \n",
              "2753           1  853.561083 -288.209949  24.704700  0.027074 -0.336386   \n",
              "7625           0  -80.738728   40.311144  42.352363  0.239471 -0.531522   \n",
              "\n",
              "            Vc  \n",
              "2405  0.404817  \n",
              "4413  0.346073  \n",
              "5938  0.591070  \n",
              "2753  0.309312  \n",
              "7625  0.292051  "
            ],
            "text/html": [
              "\n",
              "  <div id=\"df-83cbc797-41b5-4812-9ae9-d55b27c40e46\">\n",
              "    <div class=\"colab-df-container\">\n",
              "      <div>\n",
              "<style scoped>\n",
              "    .dataframe tbody tr th:only-of-type {\n",
              "        vertical-align: middle;\n",
              "    }\n",
              "\n",
              "    .dataframe tbody tr th {\n",
              "        vertical-align: top;\n",
              "    }\n",
              "\n",
              "    .dataframe thead th {\n",
              "        text-align: right;\n",
              "    }\n",
              "</style>\n",
              "<table border=\"1\" class=\"dataframe\">\n",
              "  <thead>\n",
              "    <tr style=\"text-align: right;\">\n",
              "      <th></th>\n",
              "      <th>Output (S)</th>\n",
              "      <th>Ia</th>\n",
              "      <th>Ib</th>\n",
              "      <th>Ic</th>\n",
              "      <th>Va</th>\n",
              "      <th>Vb</th>\n",
              "      <th>Vc</th>\n",
              "    </tr>\n",
              "  </thead>\n",
              "  <tbody>\n",
              "    <tr>\n",
              "      <th>2405</th>\n",
              "      <td>0</td>\n",
              "      <td>-58.249132</td>\n",
              "      <td>-0.610827</td>\n",
              "      <td>55.231011</td>\n",
              "      <td>0.188352</td>\n",
              "      <td>-0.593169</td>\n",
              "      <td>0.404817</td>\n",
              "    </tr>\n",
              "    <tr>\n",
              "      <th>4413</th>\n",
              "      <td>0</td>\n",
              "      <td>-57.122653</td>\n",
              "      <td>1.093783</td>\n",
              "      <td>58.707365</td>\n",
              "      <td>0.254819</td>\n",
              "      <td>-0.600891</td>\n",
              "      <td>0.346073</td>\n",
              "    </tr>\n",
              "    <tr>\n",
              "      <th>5938</th>\n",
              "      <td>0</td>\n",
              "      <td>-61.089452</td>\n",
              "      <td>73.642305</td>\n",
              "      <td>-10.239339</td>\n",
              "      <td>-0.413997</td>\n",
              "      <td>-0.177073</td>\n",
              "      <td>0.591070</td>\n",
              "    </tr>\n",
              "    <tr>\n",
              "      <th>2753</th>\n",
              "      <td>1</td>\n",
              "      <td>853.561083</td>\n",
              "      <td>-288.209949</td>\n",
              "      <td>24.704700</td>\n",
              "      <td>0.027074</td>\n",
              "      <td>-0.336386</td>\n",
              "      <td>0.309312</td>\n",
              "    </tr>\n",
              "    <tr>\n",
              "      <th>7625</th>\n",
              "      <td>0</td>\n",
              "      <td>-80.738728</td>\n",
              "      <td>40.311144</td>\n",
              "      <td>42.352363</td>\n",
              "      <td>0.239471</td>\n",
              "      <td>-0.531522</td>\n",
              "      <td>0.292051</td>\n",
              "    </tr>\n",
              "  </tbody>\n",
              "</table>\n",
              "</div>\n",
              "      <button class=\"colab-df-convert\" onclick=\"convertToInteractive('df-83cbc797-41b5-4812-9ae9-d55b27c40e46')\"\n",
              "              title=\"Convert this dataframe to an interactive table.\"\n",
              "              style=\"display:none;\">\n",
              "        \n",
              "  <svg xmlns=\"http://www.w3.org/2000/svg\" height=\"24px\"viewBox=\"0 0 24 24\"\n",
              "       width=\"24px\">\n",
              "    <path d=\"M0 0h24v24H0V0z\" fill=\"none\"/>\n",
              "    <path d=\"M18.56 5.44l.94 2.06.94-2.06 2.06-.94-2.06-.94-.94-2.06-.94 2.06-2.06.94zm-11 1L8.5 8.5l.94-2.06 2.06-.94-2.06-.94L8.5 2.5l-.94 2.06-2.06.94zm10 10l.94 2.06.94-2.06 2.06-.94-2.06-.94-.94-2.06-.94 2.06-2.06.94z\"/><path d=\"M17.41 7.96l-1.37-1.37c-.4-.4-.92-.59-1.43-.59-.52 0-1.04.2-1.43.59L10.3 9.45l-7.72 7.72c-.78.78-.78 2.05 0 2.83L4 21.41c.39.39.9.59 1.41.59.51 0 1.02-.2 1.41-.59l7.78-7.78 2.81-2.81c.8-.78.8-2.07 0-2.86zM5.41 20L4 18.59l7.72-7.72 1.47 1.35L5.41 20z\"/>\n",
              "  </svg>\n",
              "      </button>\n",
              "      \n",
              "  <style>\n",
              "    .colab-df-container {\n",
              "      display:flex;\n",
              "      flex-wrap:wrap;\n",
              "      gap: 12px;\n",
              "    }\n",
              "\n",
              "    .colab-df-convert {\n",
              "      background-color: #E8F0FE;\n",
              "      border: none;\n",
              "      border-radius: 50%;\n",
              "      cursor: pointer;\n",
              "      display: none;\n",
              "      fill: #1967D2;\n",
              "      height: 32px;\n",
              "      padding: 0 0 0 0;\n",
              "      width: 32px;\n",
              "    }\n",
              "\n",
              "    .colab-df-convert:hover {\n",
              "      background-color: #E2EBFA;\n",
              "      box-shadow: 0px 1px 2px rgba(60, 64, 67, 0.3), 0px 1px 3px 1px rgba(60, 64, 67, 0.15);\n",
              "      fill: #174EA6;\n",
              "    }\n",
              "\n",
              "    [theme=dark] .colab-df-convert {\n",
              "      background-color: #3B4455;\n",
              "      fill: #D2E3FC;\n",
              "    }\n",
              "\n",
              "    [theme=dark] .colab-df-convert:hover {\n",
              "      background-color: #434B5C;\n",
              "      box-shadow: 0px 1px 3px 1px rgba(0, 0, 0, 0.15);\n",
              "      filter: drop-shadow(0px 1px 2px rgba(0, 0, 0, 0.3));\n",
              "      fill: #FFFFFF;\n",
              "    }\n",
              "  </style>\n",
              "\n",
              "      <script>\n",
              "        const buttonEl =\n",
              "          document.querySelector('#df-83cbc797-41b5-4812-9ae9-d55b27c40e46 button.colab-df-convert');\n",
              "        buttonEl.style.display =\n",
              "          google.colab.kernel.accessAllowed ? 'block' : 'none';\n",
              "\n",
              "        async function convertToInteractive(key) {\n",
              "          const element = document.querySelector('#df-83cbc797-41b5-4812-9ae9-d55b27c40e46');\n",
              "          const dataTable =\n",
              "            await google.colab.kernel.invokeFunction('convertToInteractive',\n",
              "                                                     [key], {});\n",
              "          if (!dataTable) return;\n",
              "\n",
              "          const docLinkHtml = 'Like what you see? Visit the ' +\n",
              "            '<a target=\"_blank\" href=https://colab.research.google.com/notebooks/data_table.ipynb>data table notebook</a>'\n",
              "            + ' to learn more about interactive tables.';\n",
              "          element.innerHTML = '';\n",
              "          dataTable['output_type'] = 'display_data';\n",
              "          await google.colab.output.renderOutput(dataTable, element);\n",
              "          const docLink = document.createElement('div');\n",
              "          docLink.innerHTML = docLinkHtml;\n",
              "          element.appendChild(docLink);\n",
              "        }\n",
              "      </script>\n",
              "    </div>\n",
              "  </div>\n",
              "  "
            ]
          },
          "metadata": {},
          "execution_count": 3
        }
      ]
    },
    {
      "cell_type": "code",
      "source": [
        "# Defining target and predictors in detect_df\n",
        "\n",
        "detect_X = detect_df.drop(columns=['Output (S)'],axis=1)\n",
        "detect_cols = detect_X.columns\n",
        "\n",
        "detect_y = detect_df['Output (S)']\n",
        "\n",
        "#detect_y = detect_df.iloc[:,0]"
      ],
      "metadata": {
        "id": "2g4gJvM04i6i"
      },
      "execution_count": null,
      "outputs": []
    },
    {
      "cell_type": "code",
      "source": [
        "# Feature Scaling\n",
        "# ---\n",
        "\n",
        "scaler = MinMaxScaler()\n",
        "X_scaled = scaler.fit_transform(detect_X)\n",
        "\n",
        "detect_X = pd.DataFrame(X_scaled, columns= detect_cols)"
      ],
      "metadata": {
        "id": "OWXsOj2a4i4Y"
      },
      "execution_count": null,
      "outputs": []
    },
    {
      "cell_type": "code",
      "source": [
        "# Split the detect dataset into train and test sets\n",
        "\n",
        "X_train, X_test, y_train, y_test = train_test_split(detect_X, detect_y, test_size=0.2, random_state=0)"
      ],
      "metadata": {
        "id": "TRsizBRW4i1_"
      },
      "execution_count": null,
      "outputs": []
    },
    {
      "cell_type": "code",
      "source": [
        "# Building the svm model using rbf kernel\n",
        "polyclassifier = SVC(kernel='poly', degree=3, gamma=5,C=5)\n",
        "# Training the model using the training set\n",
        "polyclassifier.fit(X_train, y_train)\n",
        "\n",
        "# making prediction\n",
        "y_pred_poly = polyclassifier.predict(X_test)\n",
        "\n",
        "# Model Evaluation\n",
        "print( accuracy_score(y_test, y_pred_poly))"
      ],
      "metadata": {
        "colab": {
          "base_uri": "https://localhost:8080/"
        },
        "id": "M9Z4mlPv4izr",
        "outputId": "f0c5694b-eba2-4237-e313-b6fa9fcd38e0"
      },
      "execution_count": null,
      "outputs": [
        {
          "output_type": "stream",
          "name": "stdout",
          "text": [
            "0.9933361099541858\n"
          ]
        }
      ]
    },
    {
      "cell_type": "code",
      "source": [
        "# Checking the confusion matrix\n",
        "print(confusion_matrix(y_test,y_pred_poly))"
      ],
      "metadata": {
        "colab": {
          "base_uri": "https://localhost:8080/"
        },
        "id": "9aHn96Nr4ixu",
        "outputId": "1905468d-50a8-4ece-89fc-16a0f861c267"
      },
      "execution_count": null,
      "outputs": [
        {
          "output_type": "stream",
          "name": "stdout",
          "text": [
            "[[1323    2]\n",
            " [  14 1062]]\n"
          ]
        }
      ]
    },
    {
      "cell_type": "markdown",
      "source": [
        "###Predictive System _detect"
      ],
      "metadata": {
        "id": "7bNSW-iW8lOk"
      }
    },
    {
      "cell_type": "code",
      "source": [
        "input_data = (-170.472196,\t9.219613,\t161.252583,\t0.05449,\t-0.659921,\t0.605431)\n",
        "#input_data= (-122.235754,\t6.168667,\t116.067087,\t0.10200,\t-0.628612,\t0.526202)\n",
        "#input_data= (34.915928,\t-763.685747,\t731.186927,\t-0.073894,\t0.010801,\t0.063093)\n",
        "#input_data= (-353.742509,\t877.841978,\t-524.101733,\t0.026485,\t0.015394,\t-0.041879)\n"
      ],
      "metadata": {
        "id": "XUSuSSz84ivt"
      },
      "execution_count": null,
      "outputs": []
    },
    {
      "cell_type": "code",
      "source": [
        "# Changing input_data to numpy array\n",
        "input_data_as_numpy_array=np.asarray(input_data)"
      ],
      "metadata": {
        "id": "dUgLI_mC4it7"
      },
      "execution_count": null,
      "outputs": []
    },
    {
      "cell_type": "code",
      "source": [
        "# reshape the array as we are predicting for one instance\n",
        "input_data_reshaped =  input_data_as_numpy_array.reshape(-1,1)"
      ],
      "metadata": {
        "id": "gH-bKkzl4ipW"
      },
      "execution_count": null,
      "outputs": []
    },
    {
      "cell_type": "code",
      "source": [
        "input_data_reshaped"
      ],
      "metadata": {
        "colab": {
          "base_uri": "https://localhost:8080/"
        },
        "id": "IfTpQgMu4ilO",
        "outputId": "ac882b0d-d6f9-4c75-9704-560401b9ede1"
      },
      "execution_count": null,
      "outputs": [
        {
          "output_type": "execute_result",
          "data": {
            "text/plain": [
              "array([[-1.70472196e+02],\n",
              "       [ 9.21961300e+00],\n",
              "       [ 1.61252583e+02],\n",
              "       [ 5.44900000e-02],\n",
              "       [-6.59921000e-01],\n",
              "       [ 6.05431000e-01]])"
            ]
          },
          "metadata": {},
          "execution_count": 12
        }
      ]
    },
    {
      "cell_type": "code",
      "source": [
        "#prediction = polyclassifier.predict(input_data_reshaped)\n",
        "#print(prediction)"
      ],
      "metadata": {
        "id": "YJIMLAX54iif"
      },
      "execution_count": null,
      "outputs": []
    },
    {
      "cell_type": "code",
      "source": [
        "#prediction = polyclassifier.predict(input_data_reshaped)\n",
        "#print(prediction)\n",
        "\n",
        "#if(prediction[0]==0):\n",
        "#  print('Line is not faulty')\n",
        "#else:\n",
        "#  print('Line is faulty')"
      ],
      "metadata": {
        "id": "ja5hpa9r4if8"
      },
      "execution_count": null,
      "outputs": []
    },
    {
      "cell_type": "code",
      "source": [
        "import pickle"
      ],
      "metadata": {
        "id": "GTehr_254ida"
      },
      "execution_count": null,
      "outputs": []
    },
    {
      "cell_type": "code",
      "source": [
        "import pickle\n",
        "\n",
        "filename = 'trained_model.sav'\n",
        "pickle.dump(polyclassifier, open(filename, 'wb'))"
      ],
      "metadata": {
        "id": "LLIskJHW4ia5"
      },
      "execution_count": null,
      "outputs": []
    },
    {
      "cell_type": "code",
      "source": [
        "# loading the saved model\n",
        "loaded_model = pickle.load(open('trained_model.sav', 'rb'))"
      ],
      "metadata": {
        "id": "WZ2yI1jv4iYL"
      },
      "execution_count": null,
      "outputs": []
    },
    {
      "cell_type": "code",
      "source": [
        "input_data = (-170.472196,\t9.219613,\t161.252583,\t0.05449,\t-0.659921,\t0.605431)\n",
        "\n",
        "# changing the input_data to numpy array\n",
        "input_data_as_numpy_array = np.asarray(input_data)\n",
        "\n",
        "# reshape the array as we are predicting for one instance\n",
        "input_data_reshaped = input_data_as_numpy_array.reshape(1,-1)\n",
        "\n",
        "prediction = loaded_model.predict(input_data_reshaped)\n",
        "print(prediction)\n",
        "\n",
        "if (prediction[0] == 0):\n",
        "  print('The line not Faulty')\n",
        "else:\n",
        "  print('The line is Faulty')\n"
      ],
      "metadata": {
        "colab": {
          "base_uri": "https://localhost:8080/"
        },
        "id": "B_nmFQUd4iVj",
        "outputId": "6e879613-c666-4ba2-dedd-be6569b607e2"
      },
      "execution_count": null,
      "outputs": [
        {
          "output_type": "stream",
          "name": "stdout",
          "text": [
            "[1]\n",
            "The line is Faulty\n"
          ]
        }
      ]
    },
    {
      "cell_type": "code",
      "source": [
        "!pip install networkx\n",
        "!pip install streamlit\n",
        "import streamlit as st"
      ],
      "metadata": {
        "id": "hE6YcH_aA7W8"
      },
      "execution_count": null,
      "outputs": []
    },
    {
      "cell_type": "code",
      "source": [
        "import numpy as np\n",
        "import pickle\n",
        "import streamlit as st\n",
        "\n",
        "\n",
        "# loading the saved model\n",
        "loaded_model = pickle.load(open('/content/trained_model.sav', 'rb'))\n",
        "\n",
        "\n",
        "\n",
        "# creating a function for Prediction\n",
        "\n",
        "def fault_prediction(input_data):\n",
        "\n",
        "\n",
        "    \n",
        "# changing the input_data to numpy array\n",
        " input_data_as_numpy_array = np.asarray(input_data)\n",
        "\n",
        "    # reshape the array as we are predicting for one instance\n",
        " input_data_reshaped = input_data_as_numpy_array.reshape(1,-1)\n",
        "\n",
        " prediction = loaded_model.predict(input_data_reshaped)\n",
        " print(prediction)\n",
        "\n",
        " if (prediction[0] == 0):\n",
        "   return 'The line is not faulty'\n",
        " else:\n",
        "   return 'The line is faulty'   \n",
        "  \n",
        "def main():\n",
        "    \n",
        "    \n",
        "    # giving a title\n",
        " st.title('Fault Prediction Web App')\n",
        "    \n",
        "    \n",
        "    # getting the input data from the user\n",
        "    \n",
        "    \n",
        " Ia = st.text_input('Input Current Value for phase A')\n",
        " Ib = st.text_input('Input Current Value for phase B')\n",
        " Ic = st.text_input('Input Current Value for phase C')\n",
        " Va = st.text_input('Input Voltage Value for phase A')\n",
        " Vb = st.text_input('Input Voltage Value for phase B')\n",
        " Vc = st.text_input('Input Voltage Value for phase C')\n",
        "    \n",
        "    \n",
        "    # code for Prediction\n",
        " fault_status = ''\n",
        " \n",
        "    \n",
        "    # creating a button for Prediction\n",
        "    \n",
        " if st.button('Fault Check Result'):\n",
        "   fault_status = fault_prediction([Ia, Ib, Ic, Va, Vb, Vc])\n",
        "\n",
        "             \n",
        " st.success(fault_status)\n",
        "    \n",
        "    \n",
        "if __name__ == '__main__':\n",
        "  main()"
      ],
      "metadata": {
        "id": "PYl3yjQ4A7To",
        "colab": {
          "base_uri": "https://localhost:8080/"
        },
        "outputId": "5c53273d-eb0e-42f2-b687-5cda7a6ca1e0"
      },
      "execution_count": null,
      "outputs": [
        {
          "output_type": "stream",
          "name": "stderr",
          "text": [
            "2022-03-26 10:40:40.516 \n",
            "  \u001b[33m\u001b[1mWarning:\u001b[0m to view this Streamlit app on a browser, run it with the following\n",
            "  command:\n",
            "\n",
            "    streamlit run /usr/local/lib/python3.7/dist-packages/ipykernel_launcher.py [ARGUMENTS]\n"
          ]
        }
      ]
    },
    {
      "cell_type": "code",
      "source": [
        "!streamlit run app.py &>/dev/null&"
      ],
      "metadata": {
        "id": "OKrrg4jqA7MH"
      },
      "execution_count": null,
      "outputs": []
    },
    {
      "cell_type": "code",
      "source": [
        "!pip -q install pyngrok\n",
        "from pyngrok import ngrok \n",
        "!ngrok authtoken [Enter your authtoken here]\n",
        "!nohup streamlit run app.py & "
      ],
      "metadata": {
        "colab": {
          "base_uri": "https://localhost:8080/"
        },
        "id": "4YuqEKoKA7Iu",
        "outputId": "4a9001e9-7926-42a3-dbff-d096a53bfe39"
      },
      "execution_count": null,
      "outputs": [
        {
          "output_type": "stream",
          "name": "stdout",
          "text": [
            "NAME:\n",
            "   authtoken - save authtoken to configuration file\n",
            "\n",
            "USAGE:\n",
            "   ngrok authtoken [command options] [arguments...]\n",
            "\n",
            "DESCRIPTION:\n",
            "   The authtoken command modifies your configuration file to include\n",
            "   the specified authtoken. By default, this configuration file is located\n",
            "   at $HOME/.ngrok2/ngrok.yml\n",
            "\n",
            "   The ngrok.com service requires that you sign up for an account to use\n",
            "   many advanced service features. In order to associate your client with\n",
            "   an account, it must pass a secret token to the ngrok.com service when it\n",
            "   starts up. Instead of passing this authtoken on every invocation, you may\n",
            "   use this command to save it into your configuration file so that your\n",
            "   client always authenticates you properly.\n",
            "\n",
            "EXAMPLE:\n",
            "    ngrok authtoken BDZIXnhJt2HNWLXyQ5PM_qCaBq0W2sNFcCa0rfTZd\n",
            "\n",
            "OPTIONS:\n",
            "   --config \t\tsave in this config file, default: ~/.ngrok2/ngrok.yml\n",
            "   --log \"false\"\tpath to log file, 'stdout', 'stderr' or 'false'\n",
            "   --log-format \"term\"\tlog record format: 'term', 'logfmt', 'json'\n",
            "   --log-level \"info\"\tlogging level\n",
            "\n",
            "ERROR:  You must pass a single argument, the authtoken to save to configuration file.\n",
            "nohup: appending output to 'nohup.out'\n"
          ]
        }
      ]
    },
    {
      "cell_type": "code",
      "source": [
        "!pip install pyngrok==4.1.1"
      ],
      "metadata": {
        "colab": {
          "base_uri": "https://localhost:8080/"
        },
        "id": "Y_0N3dNrA7Ey",
        "outputId": "b7d7e55b-fad8-4541-8264-25d8a45d67c0"
      },
      "execution_count": null,
      "outputs": [
        {
          "output_type": "stream",
          "name": "stdout",
          "text": [
            "Requirement already satisfied: pyngrok==4.1.1 in /usr/local/lib/python3.7/dist-packages (4.1.1)\n",
            "Requirement already satisfied: PyYAML in /usr/local/lib/python3.7/dist-packages (from pyngrok==4.1.1) (3.13)\n",
            "Requirement already satisfied: future in /usr/local/lib/python3.7/dist-packages (from pyngrok==4.1.1) (0.16.0)\n"
          ]
        }
      ]
    },
    {
      "cell_type": "code",
      "source": [
        "#public_url = ngrok.connect(port=‘80’)\n",
        "public_url = ngrok.connect('8501')\n",
        "public_url"
      ],
      "metadata": {
        "colab": {
          "base_uri": "https://localhost:8080/",
          "height": 576
        },
        "id": "yFfH0VbFA7BP",
        "outputId": "ebe256f2-b8ed-439f-f22a-3eaf8104aaa1"
      },
      "execution_count": null,
      "outputs": [
        {
          "output_type": "stream",
          "name": "stderr",
          "text": [
            "2022-03-26 10:40:49.250 ngrok process starting: 693\n",
            "2022-03-26 10:40:49.267 t=2022-03-26T10:40:49+0000 lvl=info msg=\"no configuration paths supplied\"\n",
            "\n",
            "2022-03-26 10:40:49.272 t=2022-03-26T10:40:49+0000 lvl=info msg=\"using configuration at default config path\" path=/root/.ngrok2/ngrok.yml\n",
            "\n",
            "2022-03-26 10:40:49.273 t=2022-03-26T10:40:49+0000 lvl=info msg=\"open config file\" path=/root/.ngrok2/ngrok.yml err=nil\n",
            "\n",
            "2022-03-26 10:40:49.274 t=2022-03-26T10:40:49+0000 lvl=info msg=\"starting web service\" obj=web addr=127.0.0.1:4040\n",
            "\n",
            "2022-03-26 10:40:49.586 t=2022-03-26T10:40:49+0000 lvl=info msg=\"tunnel session started\" obj=tunnels.session\n",
            "\n",
            "2022-03-26 10:40:49.587 t=2022-03-26T10:40:49+0000 lvl=info msg=\"client session established\" obj=csess id=9425234677ef\n",
            "\n",
            "2022-03-26 10:40:49.597 ngrok process has started: http://127.0.0.1:4040\n",
            "2022-03-26 10:40:49.601 t=2022-03-26T10:40:49+0000 lvl=info msg=start pg=/api/tunnels id=575fe45c9d12aae1\n",
            "\n",
            "2022-03-26 10:40:49.605 t=2022-03-26T10:40:49+0000 lvl=info msg=end pg=/api/tunnels id=575fe45c9d12aae1 status=200 dur=378.07µs\n",
            "\n",
            "2022-03-26 10:40:49.606 t=2022-03-26T10:40:49+0000 lvl=info msg=start pg=/api/tunnels id=50585f4d94a62568\n",
            "\n",
            "2022-03-26 10:40:49.608 t=2022-03-26T10:40:49+0000 lvl=info msg=end pg=/api/tunnels id=50585f4d94a62568 status=200 dur=116.47µs\n",
            "\n",
            "2022-03-26 10:40:49.611 t=2022-03-26T10:40:49+0000 lvl=info msg=start pg=/api/tunnels id=c976f67a79c65565\n",
            "\n",
            "2022-03-26 10:40:49.842 t=2022-03-26T10:40:49+0000 lvl=info msg=\"started tunnel\" obj=tunnels name=\"http-8501-c8a88f72-706a-4da9-8653-623b5871c73b (http)\" addr=http://localhost:8501 url=http://6646-34-91-147-169.ngrok.io\n",
            "\n"
          ]
        },
        {
          "output_type": "execute_result",
          "data": {
            "text/plain": [
              "'http://6646-34-91-147-169.ngrok.io'"
            ],
            "application/vnd.google.colaboratory.intrinsic+json": {
              "type": "string"
            }
          },
          "metadata": {},
          "execution_count": 24
        },
        {
          "output_type": "stream",
          "name": "stderr",
          "text": [
            "2022-03-26 10:40:49.844 t=2022-03-26T10:40:49+0000 lvl=info msg=\"started tunnel\" obj=tunnels name=http-8501-c8a88f72-706a-4da9-8653-623b5871c73b addr=http://localhost:8501 url=https://6646-34-91-147-169.ngrok.io\n",
            "\n",
            "2022-03-26 10:40:49.846 t=2022-03-26T10:40:49+0000 lvl=info msg=end pg=/api/tunnels id=c976f67a79c65565 status=201 dur=240.472482ms\n",
            "\n"
          ]
        }
      ]
    },
    {
      "cell_type": "code",
      "source": [
        ""
      ],
      "metadata": {
        "id": "5u5zeM3FbuR-"
      },
      "execution_count": null,
      "outputs": []
    },
    {
      "cell_type": "code",
      "source": [
        ""
      ],
      "metadata": {
        "id": "ZOfXi6kQ4iQ0"
      },
      "execution_count": null,
      "outputs": []
    },
    {
      "cell_type": "markdown",
      "source": [
        "#Classification Dataset - Deployment "
      ],
      "metadata": {
        "id": "yYQ5kFFSECI1"
      }
    },
    {
      "cell_type": "code",
      "source": [
        "# Creating column 'fault_types'\n",
        "class_df['fault_types'] = class_df['G'].astype('str') + class_df['C'].astype('str') + class_df['B'].astype('str') + class_df['A'].astype('str')\n",
        "class_df.sample(4)"
      ],
      "metadata": {
        "colab": {
          "base_uri": "https://localhost:8080/",
          "height": 174
        },
        "id": "tq3u9pdEgJF6",
        "outputId": "ec574e10-11f5-4672-f9d1-d891a5f044a7"
      },
      "execution_count": null,
      "outputs": [
        {
          "output_type": "execute_result",
          "data": {
            "text/plain": [
              "      G  C  B  A          Ia          Ib          Ic        Va        Vb  \\\n",
              "5780  0  0  0  0  -53.353433   98.297106  -48.401301 -0.530159  0.003488   \n",
              "217   1  0  0  1  839.080654   64.326698  -13.425958 -0.170489 -0.027766   \n",
              "3245  0  1  1  0  -41.716369 -333.765344  377.727669 -0.504371 -0.036645   \n",
              "2025  1  0  1  1 -520.725142 -342.284192  -53.077623 -0.041832  0.364258   \n",
              "\n",
              "            Vc fault_types  \n",
              "5780  0.526671        0000  \n",
              "217   0.198256        1001  \n",
              "3245  0.541017        0110  \n",
              "2025 -0.322426        1011  "
            ],
            "text/html": [
              "\n",
              "  <div id=\"df-197e54c3-98a2-4844-a731-4b44154f0fec\">\n",
              "    <div class=\"colab-df-container\">\n",
              "      <div>\n",
              "<style scoped>\n",
              "    .dataframe tbody tr th:only-of-type {\n",
              "        vertical-align: middle;\n",
              "    }\n",
              "\n",
              "    .dataframe tbody tr th {\n",
              "        vertical-align: top;\n",
              "    }\n",
              "\n",
              "    .dataframe thead th {\n",
              "        text-align: right;\n",
              "    }\n",
              "</style>\n",
              "<table border=\"1\" class=\"dataframe\">\n",
              "  <thead>\n",
              "    <tr style=\"text-align: right;\">\n",
              "      <th></th>\n",
              "      <th>G</th>\n",
              "      <th>C</th>\n",
              "      <th>B</th>\n",
              "      <th>A</th>\n",
              "      <th>Ia</th>\n",
              "      <th>Ib</th>\n",
              "      <th>Ic</th>\n",
              "      <th>Va</th>\n",
              "      <th>Vb</th>\n",
              "      <th>Vc</th>\n",
              "      <th>fault_types</th>\n",
              "    </tr>\n",
              "  </thead>\n",
              "  <tbody>\n",
              "    <tr>\n",
              "      <th>5780</th>\n",
              "      <td>0</td>\n",
              "      <td>0</td>\n",
              "      <td>0</td>\n",
              "      <td>0</td>\n",
              "      <td>-53.353433</td>\n",
              "      <td>98.297106</td>\n",
              "      <td>-48.401301</td>\n",
              "      <td>-0.530159</td>\n",
              "      <td>0.003488</td>\n",
              "      <td>0.526671</td>\n",
              "      <td>0000</td>\n",
              "    </tr>\n",
              "    <tr>\n",
              "      <th>217</th>\n",
              "      <td>1</td>\n",
              "      <td>0</td>\n",
              "      <td>0</td>\n",
              "      <td>1</td>\n",
              "      <td>839.080654</td>\n",
              "      <td>64.326698</td>\n",
              "      <td>-13.425958</td>\n",
              "      <td>-0.170489</td>\n",
              "      <td>-0.027766</td>\n",
              "      <td>0.198256</td>\n",
              "      <td>1001</td>\n",
              "    </tr>\n",
              "    <tr>\n",
              "      <th>3245</th>\n",
              "      <td>0</td>\n",
              "      <td>1</td>\n",
              "      <td>1</td>\n",
              "      <td>0</td>\n",
              "      <td>-41.716369</td>\n",
              "      <td>-333.765344</td>\n",
              "      <td>377.727669</td>\n",
              "      <td>-0.504371</td>\n",
              "      <td>-0.036645</td>\n",
              "      <td>0.541017</td>\n",
              "      <td>0110</td>\n",
              "    </tr>\n",
              "    <tr>\n",
              "      <th>2025</th>\n",
              "      <td>1</td>\n",
              "      <td>0</td>\n",
              "      <td>1</td>\n",
              "      <td>1</td>\n",
              "      <td>-520.725142</td>\n",
              "      <td>-342.284192</td>\n",
              "      <td>-53.077623</td>\n",
              "      <td>-0.041832</td>\n",
              "      <td>0.364258</td>\n",
              "      <td>-0.322426</td>\n",
              "      <td>1011</td>\n",
              "    </tr>\n",
              "  </tbody>\n",
              "</table>\n",
              "</div>\n",
              "      <button class=\"colab-df-convert\" onclick=\"convertToInteractive('df-197e54c3-98a2-4844-a731-4b44154f0fec')\"\n",
              "              title=\"Convert this dataframe to an interactive table.\"\n",
              "              style=\"display:none;\">\n",
              "        \n",
              "  <svg xmlns=\"http://www.w3.org/2000/svg\" height=\"24px\"viewBox=\"0 0 24 24\"\n",
              "       width=\"24px\">\n",
              "    <path d=\"M0 0h24v24H0V0z\" fill=\"none\"/>\n",
              "    <path d=\"M18.56 5.44l.94 2.06.94-2.06 2.06-.94-2.06-.94-.94-2.06-.94 2.06-2.06.94zm-11 1L8.5 8.5l.94-2.06 2.06-.94-2.06-.94L8.5 2.5l-.94 2.06-2.06.94zm10 10l.94 2.06.94-2.06 2.06-.94-2.06-.94-.94-2.06-.94 2.06-2.06.94z\"/><path d=\"M17.41 7.96l-1.37-1.37c-.4-.4-.92-.59-1.43-.59-.52 0-1.04.2-1.43.59L10.3 9.45l-7.72 7.72c-.78.78-.78 2.05 0 2.83L4 21.41c.39.39.9.59 1.41.59.51 0 1.02-.2 1.41-.59l7.78-7.78 2.81-2.81c.8-.78.8-2.07 0-2.86zM5.41 20L4 18.59l7.72-7.72 1.47 1.35L5.41 20z\"/>\n",
              "  </svg>\n",
              "      </button>\n",
              "      \n",
              "  <style>\n",
              "    .colab-df-container {\n",
              "      display:flex;\n",
              "      flex-wrap:wrap;\n",
              "      gap: 12px;\n",
              "    }\n",
              "\n",
              "    .colab-df-convert {\n",
              "      background-color: #E8F0FE;\n",
              "      border: none;\n",
              "      border-radius: 50%;\n",
              "      cursor: pointer;\n",
              "      display: none;\n",
              "      fill: #1967D2;\n",
              "      height: 32px;\n",
              "      padding: 0 0 0 0;\n",
              "      width: 32px;\n",
              "    }\n",
              "\n",
              "    .colab-df-convert:hover {\n",
              "      background-color: #E2EBFA;\n",
              "      box-shadow: 0px 1px 2px rgba(60, 64, 67, 0.3), 0px 1px 3px 1px rgba(60, 64, 67, 0.15);\n",
              "      fill: #174EA6;\n",
              "    }\n",
              "\n",
              "    [theme=dark] .colab-df-convert {\n",
              "      background-color: #3B4455;\n",
              "      fill: #D2E3FC;\n",
              "    }\n",
              "\n",
              "    [theme=dark] .colab-df-convert:hover {\n",
              "      background-color: #434B5C;\n",
              "      box-shadow: 0px 1px 3px 1px rgba(0, 0, 0, 0.15);\n",
              "      filter: drop-shadow(0px 1px 2px rgba(0, 0, 0, 0.3));\n",
              "      fill: #FFFFFF;\n",
              "    }\n",
              "  </style>\n",
              "\n",
              "      <script>\n",
              "        const buttonEl =\n",
              "          document.querySelector('#df-197e54c3-98a2-4844-a731-4b44154f0fec button.colab-df-convert');\n",
              "        buttonEl.style.display =\n",
              "          google.colab.kernel.accessAllowed ? 'block' : 'none';\n",
              "\n",
              "        async function convertToInteractive(key) {\n",
              "          const element = document.querySelector('#df-197e54c3-98a2-4844-a731-4b44154f0fec');\n",
              "          const dataTable =\n",
              "            await google.colab.kernel.invokeFunction('convertToInteractive',\n",
              "                                                     [key], {});\n",
              "          if (!dataTable) return;\n",
              "\n",
              "          const docLinkHtml = 'Like what you see? Visit the ' +\n",
              "            '<a target=\"_blank\" href=https://colab.research.google.com/notebooks/data_table.ipynb>data table notebook</a>'\n",
              "            + ' to learn more about interactive tables.';\n",
              "          element.innerHTML = '';\n",
              "          dataTable['output_type'] = 'display_data';\n",
              "          await google.colab.output.renderOutput(dataTable, element);\n",
              "          const docLink = document.createElement('div');\n",
              "          docLink.innerHTML = docLinkHtml;\n",
              "          element.appendChild(docLink);\n",
              "        }\n",
              "      </script>\n",
              "    </div>\n",
              "  </div>\n",
              "  "
            ]
          },
          "metadata": {},
          "execution_count": 25
        }
      ]
    },
    {
      "cell_type": "code",
      "source": [
        "class_df.columns"
      ],
      "metadata": {
        "colab": {
          "base_uri": "https://localhost:8080/"
        },
        "id": "yEb6xSgegTEu",
        "outputId": "f2e216a8-d22c-4348-ee6e-da491df02c06"
      },
      "execution_count": null,
      "outputs": [
        {
          "output_type": "execute_result",
          "data": {
            "text/plain": [
              "Index(['G', 'C', 'B', 'A', 'Ia', 'Ib', 'Ic', 'Va', 'Vb', 'Vc', 'fault_types'], dtype='object')"
            ]
          },
          "metadata": {},
          "execution_count": 26
        }
      ]
    },
    {
      "cell_type": "code",
      "source": [
        "clf_X = class_df.drop(columns=['G','C','B','A','fault_types'],axis=1)\n",
        "clf_cols = clf_X.columns\n",
        "\n",
        "new_class_y = class_df['fault_types']\n",
        "\n",
        "#clf_y = class_df.iloc[:,0:4]"
      ],
      "metadata": {
        "id": "IctIqcsdjUef"
      },
      "execution_count": null,
      "outputs": []
    },
    {
      "cell_type": "code",
      "source": [
        "# Scaling data\n",
        "from sklearn.preprocessing import MinMaxScaler\n",
        "\n",
        "scaler = MinMaxScaler()\n",
        "class_scaled = scaler.fit_transform(clf_X)\n",
        "\n",
        "clf_X = pd.DataFrame(class_scaled, columns= clf_cols)"
      ],
      "metadata": {
        "id": "aLc2bEX7gvxz"
      },
      "execution_count": null,
      "outputs": []
    },
    {
      "cell_type": "code",
      "source": [
        "from sklearn.model_selection import train_test_split\n",
        "\n",
        "class_train_X, class_test_X, class_train_y, class_test_y = train_test_split(clf_X,new_class_y,test_size=0.2,random_state=0)"
      ],
      "metadata": {
        "id": "nQPxPloFg4AQ"
      },
      "execution_count": null,
      "outputs": []
    },
    {
      "cell_type": "code",
      "source": [
        "new_class_y.unique()"
      ],
      "metadata": {
        "colab": {
          "base_uri": "https://localhost:8080/"
        },
        "id": "OegKuQUms9Vd",
        "outputId": "792eb077-85fb-44ed-d1a1-ae51a4fdb3dc"
      },
      "execution_count": null,
      "outputs": [
        {
          "output_type": "execute_result",
          "data": {
            "text/plain": [
              "array(['1001', '1011', '0110', '0111', '1111', '0000'], dtype=object)"
            ]
          },
          "metadata": {},
          "execution_count": 30
        }
      ]
    },
    {
      "cell_type": "code",
      "source": [
        "# Transforming y_train and y_test\n",
        "#class_y_train = np.array([class_train_y['G']+class_train_y['A']+class_train_y['B']+class_train_y['C']])\n",
        "#class_y_train= class_y_train.transpose().ravel()\n",
        "\n",
        "#class_y_test = np.array([class_test_y['G']+class_test_y['A']+class_test_y['B']+class_test_y['C']])\n",
        "#class_y_test= class_y_test.transpose().ravel()"
      ],
      "metadata": {
        "id": "LbZPxSpXg39D"
      },
      "execution_count": null,
      "outputs": []
    },
    {
      "cell_type": "code",
      "source": [
        "#[G C B A]\n",
        "#[0 0 0 0] -> No fault \n",
        "#[1 0 0 1] -> LG fault(Between Phase A and ground)\n",
        "#[0 1 1 0] -> LL fault(Between Phase A and Phase B)\n",
        "#[1 0 1 1] -> LLG Fault(Between Phases A,B and ground)\n",
        "#[0 1 1 1] -> LLL Fault(Between all three phases)\n",
        "#[1 1 1 1] -> LLLG fault(Three phase symmetrical fault)"
      ],
      "metadata": {
        "id": "itPvCeBo00JJ"
      },
      "execution_count": null,
      "outputs": []
    },
    {
      "cell_type": "markdown",
      "source": [
        "###KNN"
      ],
      "metadata": {
        "id": "UsVboa78RG_o"
      }
    },
    {
      "cell_type": "code",
      "source": [
        "# Train the model with KNN classifier\n",
        "from sklearn.neighbors import KNeighborsClassifier\n",
        "classifier_knn = KNeighborsClassifier(n_neighbors = 5)\n",
        "classifier_knn.fit(class_train_X, class_train_y)"
      ],
      "metadata": {
        "id": "e8zuo3RT0eXd",
        "colab": {
          "base_uri": "https://localhost:8080/"
        },
        "outputId": "8563cc45-2325-423d-c10c-f27dcbf37f42"
      },
      "execution_count": null,
      "outputs": [
        {
          "output_type": "execute_result",
          "data": {
            "text/plain": [
              "KNeighborsClassifier()"
            ]
          },
          "metadata": {},
          "execution_count": 33
        }
      ]
    },
    {
      "cell_type": "code",
      "source": [
        "#Making predictions\n",
        "y_pred_knn = classifier_knn.predict(class_test_X)"
      ],
      "metadata": {
        "id": "IrrlEnYQ0eSe"
      },
      "execution_count": null,
      "outputs": []
    },
    {
      "cell_type": "code",
      "source": [
        "from sklearn.metrics import classification_report, confusion_matrix, accuracy_score\n",
        "\n",
        "clf_report = classification_report(class_test_y, y_pred_knn)\n",
        "print(\"Classification Report:\",)\n",
        "print (clf_report)\n",
        "model_accuracy = accuracy_score(class_test_y,y_pred_knn)\n",
        "print(\"Accuracy:\",model_accuracy)"
      ],
      "metadata": {
        "id": "tExrzD4p0eB9",
        "colab": {
          "base_uri": "https://localhost:8080/"
        },
        "outputId": "669954f2-a164-4a53-f35e-27b28c661382"
      },
      "execution_count": null,
      "outputs": [
        {
          "output_type": "stream",
          "name": "stdout",
          "text": [
            "Classification Report:\n",
            "              precision    recall  f1-score   support\n",
            "\n",
            "        0000       1.00      1.00      1.00       469\n",
            "        0110       1.00      1.00      1.00       197\n",
            "        0111       0.33      0.33      0.33       223\n",
            "        1001       0.95      1.00      0.98       221\n",
            "        1011       0.97      0.95      0.96       219\n",
            "        1111       0.37      0.35      0.36       244\n",
            "\n",
            "    accuracy                           0.80      1573\n",
            "   macro avg       0.77      0.77      0.77      1573\n",
            "weighted avg       0.80      0.80      0.80      1573\n",
            "\n",
            "Accuracy: 0.7972027972027972\n"
          ]
        }
      ]
    },
    {
      "cell_type": "code",
      "source": [
        ""
      ],
      "metadata": {
        "id": "Qf_ubf7mMM8O"
      },
      "execution_count": null,
      "outputs": []
    },
    {
      "cell_type": "markdown",
      "source": [
        "##Polynomial Fn"
      ],
      "metadata": {
        "id": "G37GpqnGOih2"
      }
    },
    {
      "cell_type": "code",
      "source": [
        "# Building the svm model using rbf kernel\n",
        "polynomial_clf = SVC(kernel='poly', degree=3, gamma=10,C=10)\n",
        "# Training the model using the training set\n",
        "polynomial_clf.fit(class_train_X, class_train_y)\n",
        "\n",
        "# making prediction\n",
        "class_y_pred = polynomial_clf.predict(class_test_X)\n",
        "\n",
        "# Model Evaluation\n",
        "# Checking the confusion matrix\n",
        "print('Confusion_Matrix:')\n",
        "print(confusion_matrix(class_test_y,class_y_pred))\n",
        "print('*******************')\n",
        "print('Model_Accuracy:') \n",
        "print(accuracy_score(class_test_y, class_y_pred))"
      ],
      "metadata": {
        "colab": {
          "base_uri": "https://localhost:8080/"
        },
        "id": "8L0GYYnzMM15",
        "outputId": "74473684-98b6-4f7a-ce33-0cae03579a8b"
      },
      "execution_count": null,
      "outputs": [
        {
          "output_type": "stream",
          "name": "stdout",
          "text": [
            "Confusion_Matrix:\n",
            "[[469   0   0   0   0   0]\n",
            " [  0 197   0   0   0   0]\n",
            " [  0   0 221   0   0   2]\n",
            " [  0   0   0 221   0   0]\n",
            " [  0   0   1   1 217   0]\n",
            " [  0   0  48   0   0 196]]\n",
            "*******************\n",
            "Model_Accuracy:\n",
            "0.9669421487603306\n"
          ]
        }
      ]
    },
    {
      "cell_type": "markdown",
      "source": [
        "##Predictive System"
      ],
      "metadata": {
        "id": "HlfTuurYRMYT"
      }
    },
    {
      "cell_type": "markdown",
      "source": [
        "###Polynomial fn"
      ],
      "metadata": {
        "id": "VCVdSzQORW9W"
      }
    },
    {
      "cell_type": "code",
      "source": [
        "import pickle\n",
        "\n",
        "filename = 'polyn_model.sav'\n",
        "pickle.dump(polynomial_clf, open(filename, 'wb'))\n",
        "\n",
        "# loading the saved model\n",
        "polyn_loaded_model = pickle.load(open('polyn_model.sav', 'rb'))"
      ],
      "metadata": {
        "id": "twSGaVQdOfK9"
      },
      "execution_count": null,
      "outputs": []
    },
    {
      "cell_type": "code",
      "source": [
        "#input_data1 = (-206.355772,\t-656.867517,\t865.389355,\t-0.037551,\t0.010533,\t0.027018)\n",
        "#input_data1 = (54.376385,\t-183.788626,\t132.004850,\t0.423327,\t0.041784,\t-0.465111)\n",
        "input_data1 = (-151.291812,\t-9.677452,\t85.800162,\t0.400750,\t-0.132935,\t-0.267815)\n",
        "# changing the input_data to numpy array\n",
        "input_data_as_numpy_array = np.asarray(input_data1)\n",
        "\n",
        "# reshape the array as we are predicting for one instance\n",
        "input_data_reshaped = input_data_as_numpy_array.reshape(1,-1)\n",
        "\n",
        "prediction = polynomial_clf.predict(input_data_reshaped)\n",
        "print(prediction)\n",
        "if(prediction=='1011'):\n",
        "  print('LLG')\n",
        "elif(prediction=='1111'):\n",
        "  print('LLLG')\n",
        "elif(prediction=='0110'):\n",
        "  print('LL')\n",
        "elif(prediction=='0000'):\n",
        "  print('NF')\n",
        "elif(prediction=='0111'):\n",
        "  print('LLL')\n",
        "elif(prediction=='1001'):\n",
        "  print('LG')\n",
        "\n",
        "else:\n",
        "  print('Undefined fault')  "
      ],
      "metadata": {
        "colab": {
          "base_uri": "https://localhost:8080/"
        },
        "id": "34RBisFrOfH8",
        "outputId": "1cb90c75-1ebe-40b8-dbf3-9b652a847a78"
      },
      "execution_count": null,
      "outputs": [
        {
          "output_type": "stream",
          "name": "stdout",
          "text": [
            "['1011']\n",
            "LLG\n"
          ]
        }
      ]
    },
    {
      "cell_type": "code",
      "source": [
        "#input_data4 = (-206.355772,\t-656.867517,\t865.389355,\t-0.037551,\t0.010533,\t0.027018)\n",
        "input_data = (54.376385,\t-183.788626,\t132.004850,\t0.423327,\t0.041784,\t-0.465111)\n",
        "#input_data = (-151.291812,\t-9.677452,\t85.800162,\t0.400750,\t-0.132935,\t-0.267815)\n",
        "# changing the input_data to numpy array\n",
        "input_data_as_numpy_array = np.asarray(input_data)\n",
        "\n",
        "# reshape the array as we are predicting for one instance\n",
        "input_data_reshaped = input_data_as_numpy_array.reshape(1,-1)\n",
        "\n",
        "prediction = polynomial_clf.predict(input_data_reshaped)\n",
        "print(prediction)\n",
        "\n",
        "if(prediction=='1011'):\n",
        "  print('The fault type is: LLG Fault')\n",
        "elif(prediction=='1111'):\n",
        "  print('The fault type is: LLLG Fault')\n",
        "elif(prediction=='0110'):\n",
        "  print('The fault type is: LL Fault')\n",
        "elif(prediction=='0000'):\n",
        "  print('No fault')\n",
        "elif(prediction=='0111'):\n",
        "  print('The fault type is: LLL')\n",
        "elif(prediction=='1001'):\n",
        "  print('The fault type is: LG')\n",
        "\n",
        "else:\n",
        "  print('Undefined fault')   "
      ],
      "metadata": {
        "colab": {
          "base_uri": "https://localhost:8080/"
        },
        "id": "Zei0Qm55MMfS",
        "outputId": "eb75f606-e563-4cdf-9684-0e1b1e85e5ff"
      },
      "execution_count": null,
      "outputs": [
        {
          "output_type": "stream",
          "name": "stdout",
          "text": [
            "['1111']\n",
            "The fault type is: LLLG Fault\n"
          ]
        }
      ]
    },
    {
      "cell_type": "code",
      "source": [
        "import numpy as np\n",
        "import pickle\n",
        "import streamlit as st\n",
        "\n",
        "\n",
        "# loading the saved model\n",
        "polyn_loaded_model = pickle.load(open('/content/polyn_model.sav', 'rb'))\n",
        "\n",
        "\n",
        "# creating a function for Prediction\n",
        "@st.cache\n",
        "\n",
        "def fault_class_prediction(input_data):\n",
        "\n",
        "\n",
        "  # changing the input_data to numpy array\n",
        " input_data_as_numpy_array = np.asarray(input_data)\n",
        "  \n",
        "# reshape the array as we are predicting for one instance\n",
        "\n",
        " input_data_reshaped = input_data_as_numpy_array.reshape(1,-1)\n",
        "\n",
        "\n",
        "prediction = polyn_loaded_model.predict(input_data_reshaped)\n",
        "print(prediction)\n",
        "\n",
        "if(prediction=='1011'):\n",
        "  print('The fault type is: LLG Fault')\n",
        "elif(prediction=='1111'):\n",
        "  print('The fault type is: LLLG Fault')\n",
        "elif(prediction=='0110'):\n",
        "  print('The fault type is: LL Fault')\n",
        "elif(prediction=='0000'):\n",
        "  print('No fault')\n",
        "elif(prediction=='0111'):\n",
        "  print('The fault type is: LLL')\n",
        "elif(prediction=='1001'):\n",
        "  print('The fault type is: LG')\n",
        "\n",
        "else:\n",
        "  print('Undefined fault')\n",
        "\n",
        "  \n",
        "def main():\n",
        "    \n",
        "    \n",
        "    # giving a title\n",
        " st.title('Fault Type Prediction Web App')\n",
        "    \n",
        "    \n",
        "    # getting the input data from the user\n",
        "    \n",
        "    \n",
        " Ia = st.text_input('Input Current Value for phase A')\n",
        " Ib = st.text_input('Input Current Value for phase B')\n",
        " Ic = st.text_input('Input Current Value for phase C')\n",
        " Va = st.text_input('Input Voltage Value for phase A')\n",
        " Vb = st.text_input('Input Voltage Value for phase B')\n",
        " Vc = st.text_input('Input Voltage Value for phase C')\n",
        "    \n",
        "    \n",
        "    # code for Prediction\n",
        " fault_class = ''\n",
        "\n",
        "    \n",
        "    # creating a button for Prediction\n",
        "    \n",
        " if st.button('Fault Type Result'):\n",
        "   fault_class = fault_class_prediction([Ia, Ib, Ic, Va, Vb, Vc])\n",
        "\n",
        "             \n",
        " st.success(fault_class)\n",
        "    \n",
        "    \n",
        "if __name__ == '__main__':\n",
        "  main()"
      ],
      "metadata": {
        "colab": {
          "base_uri": "https://localhost:8080/"
        },
        "id": "rFqeBPECQNmM",
        "outputId": "c2978d55-b015-4b35-9064-55ebf634f620"
      },
      "execution_count": null,
      "outputs": [
        {
          "output_type": "stream",
          "name": "stdout",
          "text": [
            "['1011']\n",
            "The fault type is: LLG Fault\n"
          ]
        }
      ]
    },
    {
      "cell_type": "code",
      "source": [
        ""
      ],
      "metadata": {
        "id": "iSh83ixnQNjY"
      },
      "execution_count": null,
      "outputs": []
    },
    {
      "cell_type": "code",
      "source": [
        ""
      ],
      "metadata": {
        "id": "-1PxcBxyZaBG"
      },
      "execution_count": null,
      "outputs": []
    },
    {
      "cell_type": "code",
      "source": [
        ""
      ],
      "metadata": {
        "id": "aWjmxUmiZZ9p"
      },
      "execution_count": null,
      "outputs": []
    },
    {
      "cell_type": "code",
      "source": [
        ""
      ],
      "metadata": {
        "id": "sbslMPevZZ6K"
      },
      "execution_count": null,
      "outputs": []
    },
    {
      "cell_type": "code",
      "source": [
        ""
      ],
      "metadata": {
        "id": "3yIWevT1ZZ2e"
      },
      "execution_count": null,
      "outputs": []
    },
    {
      "cell_type": "code",
      "source": [
        ""
      ],
      "metadata": {
        "id": "949RiNGmZZyg"
      },
      "execution_count": null,
      "outputs": []
    },
    {
      "cell_type": "code",
      "source": [
        ""
      ],
      "metadata": {
        "id": "APxEm0B_MMbf"
      },
      "execution_count": null,
      "outputs": []
    },
    {
      "cell_type": "code",
      "source": [
        ""
      ],
      "metadata": {
        "id": "MoIU072HMMXR"
      },
      "execution_count": null,
      "outputs": []
    },
    {
      "cell_type": "markdown",
      "source": [
        "###KNN"
      ],
      "metadata": {
        "id": "S46UJ4QHRbI3"
      }
    },
    {
      "cell_type": "code",
      "source": [
        "import pickle\n",
        "\n",
        "filename = 'knn_model.sav'\n",
        "pickle.dump(classifier_knn, open(filename, 'wb'))\n",
        "\n",
        "# loading the saved model\n",
        "knn_loaded_model = pickle.load(open('knn_model.sav', 'rb'))"
      ],
      "metadata": {
        "id": "WKkFya9h0d7-"
      },
      "execution_count": null,
      "outputs": []
    },
    {
      "cell_type": "code",
      "source": [
        "input_data1 = (-151.291812,\t-9.677452,\t85.800162,\t0.400750,\t-0.132935,\t-0.267815)\n",
        "\n",
        "# changing the input_data to numpy array\n",
        "input_data_as_numpy_array = np.asarray(input_data1)\n",
        "\n",
        "# reshape the array as we are predicting for one instance\n",
        "input_data_reshaped = input_data_as_numpy_array.reshape(1,-1)\n",
        "\n",
        "prediction = knn_loaded_model.predict(input_data_reshaped)\n",
        "print(prediction)"
      ],
      "metadata": {
        "colab": {
          "base_uri": "https://localhost:8080/"
        },
        "id": "zXoyhXbnGtmb",
        "outputId": "ec5b0473-b48c-4de5-d4fc-219b05657514"
      },
      "execution_count": null,
      "outputs": [
        {
          "output_type": "stream",
          "name": "stdout",
          "text": [
            "['1111']\n"
          ]
        }
      ]
    },
    {
      "cell_type": "code",
      "source": [
        "input_data1 = (-703.090202,\t-85.622904,\t-44.015875,\t-0.038023,\t0.376207,\t-0.338184)\n",
        "\n",
        "# changing the input_data to numpy array\n",
        "input_data_as_numpy_array = np.asarray(input_data1)\n",
        "\n",
        "# reshape the array as we are predicting for one instance\n",
        "input_data_reshaped = input_data_as_numpy_array.reshape(1,-1)\n",
        "\n",
        "prediction2 = knn_loaded_model.predict(input_data_reshaped)\n",
        "print(prediction)\n",
        "\n",
        "if(prediction2[0]=='0000'):\n",
        "  print('No faulty')\n",
        "  if(prediction2[1]=='1001'):\n",
        "    print('LG faulty')\n",
        "    if(prediction2[2]=='0110'):\n",
        "      print('LL faulty')\n",
        "      if(prediction2[3]=='1011'):\n",
        "        print('LLG')\n",
        "        if(prediction2[4]=='0111'):\n",
        "          print('LLL')\n",
        "          if(prediction2[5]=='1111'):\n",
        "            print('LLLG')\n",
        "else:\n",
        "  print('Undefined fault') "
      ],
      "metadata": {
        "colab": {
          "base_uri": "https://localhost:8080/"
        },
        "id": "PC-9oazdGRal",
        "outputId": "99082cf6-00bf-4206-f240-f8f67d041d5c"
      },
      "execution_count": null,
      "outputs": [
        {
          "output_type": "stream",
          "name": "stdout",
          "text": [
            "['1111']\n",
            "Undefined fault\n"
          ]
        }
      ]
    },
    {
      "cell_type": "code",
      "source": [
        "class_df.fault_types.unique()"
      ],
      "metadata": {
        "colab": {
          "base_uri": "https://localhost:8080/"
        },
        "id": "GmXrutp6KdCK",
        "outputId": "3a8857e0-f15b-4719-a373-a7031acac76b"
      },
      "execution_count": null,
      "outputs": [
        {
          "output_type": "execute_result",
          "data": {
            "text/plain": [
              "array(['1001', '1011', '0110', '0111', '1111', '0000'], dtype=object)"
            ]
          },
          "metadata": {},
          "execution_count": 44
        }
      ]
    },
    {
      "cell_type": "code",
      "source": [
        "input_data1 = (19.611097,\t-27.203132,\t4.150914,\t0.571750,\t-0.139266,\t-0.432484)\n",
        "\n",
        "# changing the input_data to numpy array\n",
        "input_data_as_numpy_array = np.asarray(input_data1)\n",
        "\n",
        "# reshape the array as we are predicting for one instance\n",
        "input_data_reshaped = input_data_as_numpy_array.reshape(1,-1)\n",
        "\n",
        "prediction2 = knn_loaded_model.predict(input_data_reshaped)\n",
        "print(prediction2)\n",
        "\n",
        "if prediction2==['0000']:\n",
        "  print('No faulty')\n",
        "  if prediction2=='1001':\n",
        "    print('LG faulty')\n",
        "  elif prediction2=='0110':\n",
        "    print('LL faulty')\n",
        "  elif prediction2=='1011':\n",
        "    print('LLG')\n",
        "  elif prediction2=='0111':\n",
        "    print('LLL')\n",
        "  elif prediction2=='1111':\n",
        "    print('LLLG')\n",
        "else:\n",
        "  print('Could not find true fault expression') "
      ],
      "metadata": {
        "colab": {
          "base_uri": "https://localhost:8080/"
        },
        "id": "eKm6QSFWJE6M",
        "outputId": "5e7aa9b0-3111-4989-f367-fe9dfe07f23d"
      },
      "execution_count": null,
      "outputs": [
        {
          "output_type": "stream",
          "name": "stdout",
          "text": [
            "['1111']\n",
            "Could not find true fault expression\n"
          ]
        }
      ]
    },
    {
      "cell_type": "code",
      "source": [
        ""
      ],
      "metadata": {
        "id": "TpFCKf8RJXQ5"
      },
      "execution_count": null,
      "outputs": []
    },
    {
      "cell_type": "code",
      "source": [
        "if(prediction2[0]=='0000'):\n",
        "  print('No faulty')\n",
        "elif(prediction2[1]=='1001'):\n",
        "  print('LG faulty')\n",
        "elif(prediction2[2]=='0110'):\n",
        "  print('LL faulty')\n",
        "elif(prediction2[3]=='1011'):\n",
        "  print('LLG')\n",
        "elif(prediction2[4]=='0111'):\n",
        "  print('LLL')\n",
        "elif(prediction2[5]=='1111'):\n",
        "  print('LLLG')\n",
        "else:\n",
        "  print('Undefined fault') "
      ],
      "metadata": {
        "id": "yj850NJRGRXm"
      },
      "execution_count": null,
      "outputs": []
    },
    {
      "cell_type": "code",
      "source": [
        ""
      ],
      "metadata": {
        "id": "_vGIsMp1HQyN"
      },
      "execution_count": null,
      "outputs": []
    },
    {
      "cell_type": "code",
      "source": [
        "if(prediction2[0]=='0000'):\n",
        "  print('No faulty')\n",
        "  if(prediction2[1]=='1001'):\n",
        "    print('LG faulty')\n",
        "    if(prediction2[2]=='0110'):\n",
        "      print('LL faulty')\n",
        "      if(prediction2[3]=='1011'):\n",
        "        print('LLG')\n",
        "        if(prediction2[4]=='0111'):\n",
        "          print('LLL')\n",
        "          if(prediction2[5]=='1111'):\n",
        "            print('LLLG')\n",
        "else:\n",
        "  print('Undefined fault')  \n",
        "\n",
        "\n"
      ],
      "metadata": {
        "id": "CbKVfOZ-t2kY"
      },
      "execution_count": null,
      "outputs": []
    }
  ]
}